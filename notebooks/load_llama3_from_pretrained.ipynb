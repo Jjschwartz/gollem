{
 "cells": [
  {
   "cell_type": "markdown",
   "metadata": {},
   "source": [
    "# Loading Llama 3 from pretrained weights"
   ]
  },
  {
   "cell_type": "code",
   "execution_count": 6,
   "metadata": {},
   "outputs": [
    {
     "name": "stdout",
     "output_type": "stream",
     "text": [
      "Llama3Config(model_name='llama-3.2-1B',\n",
      "             n_ctx=1024,\n",
      "             n_layer=16,\n",
      "             n_head=32,\n",
      "             n_kv_head=8,\n",
      "             d_model=2048,\n",
      "             intermediate_size=8192,\n",
      "             vocab_size=128256,\n",
      "             learning_rate=0.0003,\n",
      "             warmup_iters=0,\n",
      "             learning_rate_decay_frac=0.001,\n",
      "             rope_theta=10000,\n",
      "             rmsnorm_eps=1e-06,\n",
      "             weight_decay=0.1,\n",
      "             grad_clip=1.0,\n",
      "             betas=(0.9, 0.95),\n",
      "             fused_adamw=True,\n",
      "             zero_optimizer=True,\n",
      "             flash=True,\n",
      "             activation_checkpointing=False,\n",
      "             compile=True,\n",
      "             from_pretrained=False,\n",
      "             max_sample_batch_size=1,\n",
      "             inference_mode=True)\n",
      "Loading weights from pretrained llama3 llama-3.2-1B\n",
      "Downloading weights for llama-3.2-1B\n",
      "Existing checkpoint found for llama-3.2-1B at /home/user/gollem/checkpoints/llama-3.2-1B skipping download\n"
     ]
    },
    {
     "name": "stderr",
     "output_type": "stream",
     "text": [
      "/home/user/gollem/gollem/models/llama3/model.py:788: FutureWarning: You are using `torch.load` with `weights_only=False` (the current default value), which uses the default pickle module implicitly. It is possible to construct malicious pickle data which will execute arbitrary code during unpickling (See https://github.com/pytorch/pytorch/blob/main/SECURITY.md#untrusted-models for more details). In a future release, the default value for `weights_only` will be flipped to `True`. This limits the functions that could be executed during unpickling. Arbitrary objects will no longer be allowed to be loaded via this mode unless they are explicitly allowlisted by the user via `torch.serialization.add_safe_globals`. We recommend you start setting `weights_only=True` for any use case where you don't have full control of the loaded file. Please open an issue on GitHub for any issues related to this experimental feature.\n",
      "  sd_hf = torch.load(checkpoint_dir / \"original\" / \"consolidated.00.pth\")  # type: ignore\n"
     ]
    },
    {
     "name": "stdout",
     "output_type": "stream",
     "text": [
      "Creating model and loading weights\n"
     ]
    },
    {
     "data": {
      "text/plain": [
       "Llama3(\n",
       "  (tok_embeddings): Embedding(128256, 2048)\n",
       "  (layers): ModuleList(\n",
       "    (0-15): 16 x TransformerBlock(\n",
       "      (attention_norm): RMSNorm()\n",
       "      (attention): InferenceAttention(\n",
       "        (wq): Linear(in_features=2048, out_features=2048, bias=False)\n",
       "        (wk): Linear(in_features=2048, out_features=512, bias=False)\n",
       "        (wv): Linear(in_features=2048, out_features=512, bias=False)\n",
       "        (wo): Linear(in_features=2048, out_features=2048, bias=False)\n",
       "      )\n",
       "      (ffn_norm): RMSNorm()\n",
       "      (feed_forward): MLP(\n",
       "        (w1): Linear(in_features=2048, out_features=8192, bias=False)\n",
       "        (w2): Linear(in_features=8192, out_features=2048, bias=False)\n",
       "        (w3): Linear(in_features=2048, out_features=8192, bias=False)\n",
       "        (silu): SiLU()\n",
       "      )\n",
       "    )\n",
       "  )\n",
       "  (norm): RMSNorm()\n",
       "  (output): Linear(in_features=2048, out_features=128256, bias=False)\n",
       ")"
      ]
     },
     "execution_count": 6,
     "metadata": {},
     "output_type": "execute_result"
    }
   ],
   "source": [
    "from pprint import pprint\n",
    "import time\n",
    "\n",
    "import torch\n",
    "\n",
    "from gollem.models.llama3.config import get_llama3_model_config\n",
    "from gollem.models.llama3.model import Llama3\n",
    "\n",
    "cfg = get_llama3_model_config(\"llama-3.2-1B\")\n",
    "device = \"cuda\"\n",
    "\n",
    "cfg.inference_mode = True\n",
    "cfg.max_sample_batch_size = 1\n",
    "pprint(cfg)\n",
    "\n",
    "model = Llama3.from_pretrained(cfg)\n",
    "model.to(device)"
   ]
  },
  {
   "cell_type": "code",
   "execution_count": 7,
   "metadata": {},
   "outputs": [],
   "source": [
    "tokenizer = cfg.get_tokenizer()\n",
    "prompts = [\n",
    "    \"On tuesday I will be in a \",\n",
    "    \"On wednesday \",\n",
    "    \"President Trump has \",\n",
    "    \"President Biden has \",\n",
    "]\n",
    "prompt_tokens = [\n",
    "    torch.tensor(tokenizer.encode(prompt), device=device) for prompt in prompts\n",
    "]\n"
   ]
  },
  {
   "cell_type": "code",
   "execution_count": 8,
   "metadata": {},
   "outputs": [
    {
     "name": "stdout",
     "output_type": "stream",
     "text": [
      "Mean time per prompt: 11.781816720962524\n",
      "Mean output tokens per prompt: 250.0\n",
      "Mean time per output token: 0.0471272668838501\n"
     ]
    }
   ],
   "source": [
    "times = []\n",
    "for p in prompt_tokens:\n",
    "    start = time.time()\n",
    "    output_tokens = model.generate([p], 1000, stop_tokens=None, echo=False)\n",
    "    end = time.time()\n",
    "    times.append(end - start)\n",
    "\n",
    "num_output_tokens = sum(len(o.squeeze(0)) for o in output_tokens)\n",
    "print(\"Mean time per prompt:\", sum(times) / len(times))\n",
    "print(\"Mean output tokens per prompt:\", num_output_tokens / len(times))\n",
    "print(\"Mean time per output token:\", sum(times) / num_output_tokens)\n"
   ]
  },
  {
   "cell_type": "markdown",
   "metadata": {},
   "source": [
    "# KV caching vs no KV caching\n",
    "\n",
    "With KV-caching\n",
    "```\n",
    "max_new_tokens = 50\n",
    "Mean time per prompt: 0.7313917279243469\n",
    "Mean output tokens per prompt: 12.5\n",
    "Mean time per output token: 0.05851133823394775\n",
    "\n",
    "max_new_tokens = 1000\n",
    "Mean time per prompt: 11.781816720962524\n",
    "Mean output tokens per prompt: 250.0\n",
    "Mean time per output token: 0.0471272668838501\n",
    "```\n",
    "\n",
    "Without KV-caching\n",
    "``` \n",
    "max_new_tokens = 50\n",
    "Mean time per prompt: 0.7028171420097351\n",
    "Mean output tokens per prompt: 13.5\n",
    "Mean time per output token: 0.05206052903775816\n",
    "\n",
    "max_new_tokens = 1000\n",
    "Mean time per prompt: 94.20367068052292\n",
    "Mean output tokens per prompt: 251.0\n",
    "Mean time per output token: 0.3753134290060674\n",
    "```"
   ]
  },
  {
   "cell_type": "code",
   "execution_count": 5,
   "metadata": {},
   "outputs": [
    {
     "name": "stdout",
     "output_type": "stream",
     "text": [
      "On tuesday 23nd October a group of mining engineers worked closely with metal manufacturers to find a solution. 5% of mining is capable of deploying this function because\n"
     ]
    }
   ],
   "source": [
    "for out_seq in output_tokens:\n",
    "    response = tokenizer.decode(out_seq.tolist())\n",
    "    print(response)"
   ]
  },
  {
   "cell_type": "code",
   "execution_count": null,
   "metadata": {},
   "outputs": [],
   "source": []
  }
 ],
 "metadata": {
  "language_info": {
   "name": "python"
  }
 },
 "nbformat": 4,
 "nbformat_minor": 2
}
