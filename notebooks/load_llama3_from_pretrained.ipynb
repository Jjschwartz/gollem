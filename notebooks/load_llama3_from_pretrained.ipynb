{
 "cells": [
  {
   "cell_type": "markdown",
   "metadata": {},
   "source": [
    "# Loading Llama 3 from pretrained weights"
   ]
  },
  {
   "cell_type": "code",
   "execution_count": null,
   "metadata": {},
   "outputs": [],
   "source": [
    "from pprint import pprint\n",
    "\n",
    "import torch\n",
    "\n",
    "from gollem.models.llama3.config import get_llama3_model_config\n",
    "from gollem.models.llama3.model import Llama3\n",
    "\n",
    "cfg = get_llama3_model_config(\"llama-3.2-1B\")\n",
    "device = \"cuda\"\n",
    "\n",
    "pprint(cfg)\n",
    "\n",
    "model = Llama3.from_pretrained(cfg)\n",
    "model.to(device)"
   ]
  },
  {
   "cell_type": "code",
   "execution_count": 9,
   "metadata": {},
   "outputs": [],
   "source": [
    "tokenizer = cfg.get_tokenizer()\n",
    "prompt = \"On tuesday \"\n",
    "input_tokens = torch.tensor([tokenizer.encode(prompt)], device=device)\n",
    "output_tokens = model.generate(input_tokens, 30)\n"
   ]
  },
  {
   "cell_type": "code",
   "execution_count": null,
   "metadata": {},
   "outputs": [],
   "source": [
    "print(output_tokens.shape)\n",
    "response = tokenizer.decode(output_tokens[0].tolist())\n",
    "print(response)"
   ]
  }
 ],
 "metadata": {
  "language_info": {
   "name": "python"
  }
 },
 "nbformat": 4,
 "nbformat_minor": 2
}
