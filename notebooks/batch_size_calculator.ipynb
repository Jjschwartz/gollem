{
 "cells": [
  {
   "cell_type": "markdown",
   "metadata": {},
   "source": [
    "# Batch size calculator\n",
    "\n",
    "We want to calculate the micro batch size  in terms of number of sequences of length `seq_len` that fit on the GPU.\n",
    "\n",
    "There are multiple ways we can do this:\n",
    "\n",
    "1. Convert from a batch size and for sequence length A to batch size for sequence length B.\n"
   ]
  },
  {
   "cell_type": "markdown",
   "metadata": {},
   "source": [
    "## 1. Convert from a batch size and for sequence length A to batch size for sequence length B.\n",
    "\n",
    "Useful for when we have a known batch size in term of #tokens for one sequence length, and we want to know what the batch size is for another sequence length.\n",
    "\n",
    "Input parameters:\n",
    "\n",
    "- `batch_size_A`: batch size for sequence length A\n",
    "- `seq_len_A`: sequence length A\n",
    "- `seq_len_B`: sequence length B\n",
    "\n",
    "Output:\n",
    "\n",
    "- `batch_size_B`: batch size for sequence length B"
   ]
  },
  {
   "cell_type": "code",
   "execution_count": 4,
   "metadata": {},
   "outputs": [
    {
     "name": "stdout",
     "output_type": "stream",
     "text": [
      "batch_size_A: 64\n",
      "seq_len_A: 512\n",
      "seq_len_B: 1024\n",
      "batch_size_B: 32\n"
     ]
    },
    {
     "data": {
      "text/plain": [
       "32"
      ]
     },
     "execution_count": 4,
     "metadata": {},
     "output_type": "execute_result"
    }
   ],
   "source": [
    "def convert_batch_size_to_new_seq_len(\n",
    "    batch_size_A: int, seq_len_A: int, seq_len_B: int\n",
    ") -> int:\n",
    "    total_batch_size_A = batch_size_A * seq_len_A\n",
    "    assert total_batch_size_A % seq_len_B == 0\n",
    "    batch_size_B = total_batch_size_A // seq_len_B\n",
    "    print(f\"batch_size_A: {batch_size_A}\")\n",
    "    print(f\"seq_len_A: {seq_len_A}\")\n",
    "    print(f\"seq_len_B: {seq_len_B}\")\n",
    "    print(f\"batch_size_B: {batch_size_B}\")\n",
    "    return batch_size_B\n",
    "\n",
    "\n",
    "input_seq_len = 512\n",
    "input_batch_size = 32768 // input_seq_len\n",
    "output_seq_len = 1024\n",
    "\n",
    "convert_batch_size_to_new_seq_len(input_batch_size, input_seq_len, output_seq_len)"
   ]
  },
  {
   "cell_type": "markdown",
   "metadata": {},
   "source": [
    "# 2. Calculate iterations given total batch size and dataset size\n",
    "\n",
    "Input parameters:\n",
    "\n",
    "- `total_batch_size`: total batch size in #tokens\n",
    "- `dataset_size`: dataset size in #tokens\n",
    "\n",
    "Output:\n",
    "\n",
    "- `num_iterations`: number of iterations\n"
   ]
  },
  {
   "cell_type": "code",
   "execution_count": 11,
   "metadata": {},
   "outputs": [
    {
     "name": "stdout",
     "output_type": "stream",
     "text": [
      "total_batch_size: 524288\n",
      "----------------------------------------------------------------------------------------------------\n",
      "dataset_size: ('tinystories', 925653391)\n",
      "num_iterations: 1766\n",
      "----------------------------------------------------------------------------------------------------\n",
      "dataset_size: ('1B', 1000000000)\n",
      "num_iterations: 1908\n",
      "----------------------------------------------------------------------------------------------------\n",
      "dataset_size: ('10B', 10000000000)\n",
      "num_iterations: 19074\n",
      "----------------------------------------------------------------------------------------------------\n",
      "dataset_size: ('100B', 100000000000)\n",
      "num_iterations: 190735\n",
      "----------------------------------------------------------------------------------------------------\n",
      "dataset_size: ('1T', 1000000000000)\n",
      "num_iterations: 1907349\n",
      "----------------------------------------------------------------------------------------------------\n"
     ]
    }
   ],
   "source": [
    "def calculate_iterations(total_batch_size: int, dataset_size: int) -> int:\n",
    "    if dataset_size % total_batch_size == 0:\n",
    "        num_iterations = dataset_size // total_batch_size\n",
    "    else:\n",
    "        num_iterations = dataset_size // total_batch_size + 1\n",
    "    return num_iterations\n",
    "\n",
    "\n",
    "total_batch_size = 524288\n",
    "print(f\"total_batch_size: {total_batch_size}\")\n",
    "print(\"-\" * 100)\n",
    "for dataset_size in [\n",
    "    (\"tinystories\", 925_653_391),\n",
    "    (\"1B\", 1_000_000_000),\n",
    "    (\"10B\", 10_000_000_000),\n",
    "    (\"100B\", 100_000_000_000),\n",
    "    (\"1T\", 1_000_000_000_000),\n",
    "]:\n",
    "    print(f\"dataset_size: {dataset_size}\")\n",
    "    num_iterations = calculate_iterations(total_batch_size, dataset_size[1])\n",
    "    print(f\"num_iterations: {num_iterations}\")\n",
    "    print(\"-\" * 100)\n"
   ]
  }
 ],
 "metadata": {
  "kernelspec": {
   "display_name": ".venv",
   "language": "python",
   "name": "python3"
  },
  "language_info": {
   "codemirror_mode": {
    "name": "ipython",
    "version": 3
   },
   "file_extension": ".py",
   "mimetype": "text/x-python",
   "name": "python",
   "nbconvert_exporter": "python",
   "pygments_lexer": "ipython3",
   "version": "3.11.11"
  }
 },
 "nbformat": 4,
 "nbformat_minor": 2
}
