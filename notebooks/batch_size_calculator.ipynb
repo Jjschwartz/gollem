{
 "cells": [
  {
   "cell_type": "markdown",
   "metadata": {},
   "source": [
    "# Batch size calculator\n",
    "\n",
    "We want to calculate the micro batch size  in terms of number of sequences of length `seq_len` that fit on the GPU.\n",
    "\n",
    "There are multiple ways we can do this:\n",
    "\n",
    "1. Convert from a batch size and for sequence length A to batch size for sequence length B.\n"
   ]
  },
  {
   "cell_type": "markdown",
   "metadata": {},
   "source": [
    "## 1. Convert from a batch size and for sequence length A to batch size for sequence length B.\n",
    "\n",
    "Useful for when we have a known batch size in term of #tokens for one sequence length, and we want to know what the batch size is for another sequence length.\n",
    "\n",
    "Input parameters:\n",
    "\n",
    "- `batch_size_A`: batch size for sequence length A\n",
    "- `seq_len_A`: sequence length A\n",
    "- `seq_len_B`: sequence length B\n",
    "\n",
    "Output:\n",
    "\n",
    "- `batch_size_B`: batch size for sequence length B"
   ]
  },
  {
   "cell_type": "code",
   "execution_count": 4,
   "metadata": {},
   "outputs": [
    {
     "name": "stdout",
     "output_type": "stream",
     "text": [
      "batch_size_A: 64\n",
      "seq_len_A: 512\n",
      "seq_len_B: 1024\n",
      "batch_size_B: 32\n"
     ]
    },
    {
     "data": {
      "text/plain": [
       "32"
      ]
     },
     "execution_count": 4,
     "metadata": {},
     "output_type": "execute_result"
    }
   ],
   "source": [
    "def convert_batch_size_to_new_seq_len(\n",
    "    batch_size_A: int, seq_len_A: int, seq_len_B: int\n",
    ") -> int:\n",
    "    total_batch_size_A = batch_size_A * seq_len_A\n",
    "    assert total_batch_size_A % seq_len_B == 0\n",
    "    batch_size_B = total_batch_size_A // seq_len_B\n",
    "    print(f\"batch_size_A: {batch_size_A}\")\n",
    "    print(f\"seq_len_A: {seq_len_A}\")\n",
    "    print(f\"seq_len_B: {seq_len_B}\")\n",
    "    print(f\"batch_size_B: {batch_size_B}\")\n",
    "    return batch_size_B\n",
    "\n",
    "\n",
    "input_seq_len = 512\n",
    "input_batch_size = 32768 // input_seq_len\n",
    "output_seq_len = 1024\n",
    "\n",
    "convert_batch_size_to_new_seq_len(input_batch_size, input_seq_len, output_seq_len)"
   ]
  }
 ],
 "metadata": {
  "kernelspec": {
   "display_name": ".venv",
   "language": "python",
   "name": "python3"
  },
  "language_info": {
   "codemirror_mode": {
    "name": "ipython",
    "version": 3
   },
   "file_extension": ".py",
   "mimetype": "text/x-python",
   "name": "python",
   "nbconvert_exporter": "python",
   "pygments_lexer": "ipython3",
   "version": "3.11.11"
  }
 },
 "nbformat": 4,
 "nbformat_minor": 2
}
