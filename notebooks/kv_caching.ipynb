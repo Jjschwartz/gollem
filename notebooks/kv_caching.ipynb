{
 "cells": [
  {
   "cell_type": "code",
   "execution_count": 1,
   "metadata": {},
   "outputs": [
    {
     "name": "stdout",
     "output_type": "stream",
     "text": [
      "tensor([[-inf, -inf, -inf],\n",
      "        [-inf, -inf, -inf],\n",
      "        [-inf, -inf, -inf]])\n",
      "tensor([[0., -inf, -inf],\n",
      "        [0., 0., -inf],\n",
      "        [0., 0., 0.]])\n",
      "mask 1\n",
      "tensor([[0., 0., 0., -inf, -inf],\n",
      "        [0., 0., 0., 0., -inf],\n",
      "        [0., 0., 0., 0., 0.]])\n",
      "tensor([[0., -inf, -inf, -inf, -inf, -inf, -inf, -inf, -inf, -inf],\n",
      "        [0., 0., -inf, -inf, -inf, -inf, -inf, -inf, -inf, -inf],\n",
      "        [0., 0., 0., -inf, -inf, -inf, -inf, -inf, -inf, -inf],\n",
      "        [0., 0., 0., 0., -inf, -inf, -inf, -inf, -inf, -inf],\n",
      "        [0., 0., 0., 0., 0., -inf, -inf, -inf, -inf, -inf],\n",
      "        [0., 0., 0., 0., 0., 0., -inf, -inf, -inf, -inf],\n",
      "        [0., 0., 0., 0., 0., 0., 0., -inf, -inf, -inf],\n",
      "        [0., 0., 0., 0., 0., 0., 0., 0., -inf, -inf],\n",
      "        [0., 0., 0., 0., 0., 0., 0., 0., 0., -inf],\n",
      "        [0., 0., 0., 0., 0., 0., 0., 0., 0., 0.]])\n",
      "mask 2\n",
      "tensor([[0., 0., 0., -inf, -inf],\n",
      "        [0., 0., 0., 0., -inf],\n",
      "        [0., 0., 0., 0., 0.]])\n"
     ]
    }
   ],
   "source": [
    "import math\n",
    "\n",
    "import torch\n",
    "import torch.nn.functional as F\n",
    "\n",
    "\n",
    "n_ctx = 10\n",
    "seqlen = 3\n",
    "start_pos = 2\n",
    "T = start_pos + seqlen\n",
    "tokens = torch.randint(0, 100, (1, seqlen))\n",
    "\n",
    "mask = torch.full((seqlen, seqlen), float(\"-inf\"), device=tokens.device)\n",
    "print(mask)\n",
    "mask = torch.triu(mask, diagonal=1)\n",
    "print(mask)\n",
    "# When performing key-value caching, we compute the attention scores\n",
    "# only for the new sequence. Thus, the matrix of scores is of size\n",
    "# (seqlen, cache_len + seqlen), and the only masked entries are (i, j) for\n",
    "# j > cache_len + i, since row i corresponds to token cache_len + i.\n",
    "mask = torch.hstack([torch.zeros((seqlen, start_pos), device=tokens.device), mask])\n",
    "print(\"mask 1\")\n",
    "print(mask)\n",
    "mask_1 = mask\n",
    "\n",
    "full_mask = torch.full((n_ctx, n_ctx), float(\"-inf\"), device=tokens.device)\n",
    "full_mask = torch.triu(full_mask, diagonal=1)\n",
    "print(full_mask)\n",
    "mask_2 = full_mask[start_pos : start_pos + seqlen, : start_pos + seqlen]\n",
    "print(\"mask 2\")\n",
    "print(mask_2)\n",
    "\n",
    "assert mask_1.all() == mask_2.all()\n"
   ]
  },
  {
   "cell_type": "code",
   "execution_count": 2,
   "metadata": {},
   "outputs": [
    {
     "name": "stdout",
     "output_type": "stream",
     "text": [
      "K.shape=torch.Size([1, 2, 5, 4])\n",
      "V.shape=torch.Size([1, 2, 5, 4])\n",
      "Q.shape=torch.Size([1, 2, 3, 4])\n",
      "attn_scores.shape=torch.Size([1, 2, 3, 5])\n",
      "attn_scores.shape=torch.Size([1, 2, 3, 5])\n",
      "attn.shape=torch.Size([1, 2, 3, 5])\n",
      "tensor([[[[0.3098, 0.3718, 0.3185, 0.0000, 0.0000],\n",
      "          [0.4430, 0.3402, 0.1989, 0.0179, 0.0000],\n",
      "          [0.1740, 0.3748, 0.1429, 0.0801, 0.2282]],\n",
      "\n",
      "         [[0.1503, 0.7668, 0.0828, 0.0000, 0.0000],\n",
      "          [0.1756, 0.3616, 0.3000, 0.1628, 0.0000],\n",
      "          [0.0159, 0.0421, 0.7838, 0.0119, 0.1464]]]])\n",
      "z_og.shape=torch.Size([1, 2, 3, 4])\n",
      "tensor([[[[-0.4766,  0.2880,  0.1352, -0.0508],\n",
      "          [-0.4505,  0.2423,  0.0181,  0.0174],\n",
      "          [-0.0904,  0.2590, -0.2730, -0.4101]],\n",
      "\n",
      "         [[ 0.2620, -0.2075,  0.5307, -1.4057],\n",
      "          [-0.0495, -0.0957, -0.3282, -0.5466],\n",
      "          [-0.6198,  0.3243, -0.9575,  0.7876]]]])\n",
      "z_flash.shape=torch.Size([1, 2, 3, 4])\n",
      "tensor([[[[-0.4766,  0.2880,  0.1352, -0.0508],\n",
      "          [-0.4505,  0.2423,  0.0181,  0.0174],\n",
      "          [-0.0904,  0.2590, -0.2730, -0.4101]],\n",
      "\n",
      "         [[ 0.2620, -0.2075,  0.5307, -1.4057],\n",
      "          [-0.0495, -0.0957, -0.3282, -0.5466],\n",
      "          [-0.6198,  0.3243, -0.9575,  0.7876]]]])\n"
     ]
    }
   ],
   "source": [
    "d_head = 4\n",
    "n_head = 2\n",
    "\n",
    "# (B, n_head, T, d_head)\n",
    "K = torch.randn(1, n_head, T, d_head)\n",
    "V = torch.randn(1, n_head, T, d_head)\n",
    "Q = torch.randn(1, n_head, seqlen, d_head)\n",
    "print(f\"{K.shape=}\")\n",
    "print(f\"{V.shape=}\")\n",
    "print(f\"{Q.shape=}\")\n",
    "attn_scores = Q @ K.transpose(-2, -1)\n",
    "attn_scores = attn_scores / math.sqrt(d_head)\n",
    "print(f\"{attn_scores.shape=}\")\n",
    "attn_scores = attn_scores + mask_2\n",
    "print(f\"{attn_scores.shape=}\")\n",
    "attn = attn_scores.softmax(dim=-1)\n",
    "print(f\"{attn.shape=}\")\n",
    "print(attn)\n",
    "z_og = attn @ V\n",
    "print(f\"{z_og.shape=}\")\n",
    "print(z_og)\n",
    "\n",
    "z_flash = F.scaled_dot_product_attention(Q, K, V, is_causal=False, attn_mask=mask_2)\n",
    "print(f\"{z_flash.shape=}\")\n",
    "print(z_flash)\n"
   ]
  },
  {
   "cell_type": "code",
   "execution_count": 13,
   "metadata": {},
   "outputs": [],
   "source": [
    "import time\n",
    "\n",
    "from gollem.models.gpt2.config import GPT2Config\n",
    "from gollem.models.gpt2.model import GPT\n",
    "\n",
    "\n",
    "def generate_text(model, cfg, x):\n",
    "    time_start = time.time()\n",
    "    B = x.size(0)\n",
    "    output = torch.zeros((B, cfg.n_ctx), device=x.device)\n",
    "    for i in range(cfg.n_ctx):\n",
    "        logits = model.sample(x, start_pos=i)\n",
    "        x = torch.argmax(logits, dim=-1)\n",
    "        output[:, i] = x.squeeze(-1)\n",
    "    time_taken = time.time() - time_start\n",
    "    print(f\"Time taken: {time_taken} seconds\")\n",
    "    return time_taken, output\n",
    "\n",
    "\n",
    "def compute_expected_flops(cfg):\n",
    "    B = cfg.max_sample_batch_size\n",
    "    T = cfg.n_ctx\n",
    "    d_model = cfg.d_model\n",
    "    L = cfg.n_layer\n",
    "    # (B*d_model)**2 per layer L per step T\n",
    "    total_flops_caching = T * L * (B * d_model) ** 2\n",
    "    # (B*d_model*i)**2 per layer L per step T\n",
    "    # i = 1, 2, ..., T\n",
    "    total_flops_no_caching = 0\n",
    "    for i in range(1, T + 1):\n",
    "        total_flops_no_caching += L * (B * d_model * i) ** 2\n",
    "    print(f\"{total_flops_caching=}\")\n",
    "    print(f\"{total_flops_no_caching=}\")\n",
    "    print(f\"speedup: {total_flops_no_caching / total_flops_caching}\")\n"
   ]
  },
  {
   "cell_type": "code",
   "execution_count": 16,
   "metadata": {},
   "outputs": [
    {
     "name": "stdout",
     "output_type": "stream",
     "text": [
      "Time taken: 0.7336409091949463 seconds\n",
      "Time taken: 0.572786808013916 seconds\n",
      "speedup: 1.2808271750160878\n",
      "total_flops_caching=67108864\n",
      "total_flops_no_caching=5881253068800\n",
      "speedup: 87637.5\n"
     ]
    }
   ],
   "source": [
    "vocab_size = 100\n",
    "max_sample_batch_size = 1\n",
    "x = torch.randint(0, vocab_size, (max_sample_batch_size, 1))\n",
    "\n",
    "cfg = GPT2Config(\n",
    "    vocab_size=vocab_size,\n",
    "    n_ctx=512,\n",
    "    n_layer=8,\n",
    "    n_head=4,\n",
    "    d_model=128,\n",
    "    flash=True,\n",
    "    max_sample_batch_size=max_sample_batch_size,\n",
    "    use_kv_caching=False,\n",
    ")\n",
    "model = GPT(cfg)\n",
    "assert model.transformer.h[0].attn.cache_x is not None\n",
    "assert model.transformer.h[0].attn.cache_k is None\n",
    "assert model.transformer.h[0].attn.cache_v is None\n",
    "no_caching_time, no_caching_output = generate_text(model, cfg, x)\n",
    "\n",
    "\n",
    "cfg = GPT2Config.override(cfg, use_kv_caching=True)\n",
    "model = GPT(cfg)\n",
    "assert model.transformer.h[0].attn.cache_x is None\n",
    "assert model.transformer.h[0].attn.cache_k is not None\n",
    "assert model.transformer.h[0].attn.cache_v is not None\n",
    "caching_time, caching_output = generate_text(model, cfg, x)\n",
    "\n",
    "assert no_caching_output.allclose(caching_output)\n",
    "print(f\"speedup: {no_caching_time / caching_time}\")\n",
    "\n",
    "compute_expected_flops(cfg)"
   ]
  },
  {
   "cell_type": "code",
   "execution_count": 17,
   "metadata": {},
   "outputs": [
    {
     "data": {
      "text/plain": [
       "347728979313260536328304591754560471199225065564351457034247483155161041206635254347320985033950225364432243311021394545295001702070069013264153113260937941358711864044716186861040899557497361427588282356254968425012480396855239725120562512065555822121708786443620799246550959187232026838081415178588172535280020786313470076859739980965720873849904291373826841584712798618430387338042329771801724767691095019545758986942732515033551529595009876999279553931070378592917099002397061907147143424113252117585950817850896618433994140232823316432187410356341262386332496954319973130407342567282027398579382543048456876800862349928140411905431276197435674603281842530744177527365885721629512253872386613118821540847897493107398381956081763695236422795880296204301770808809477147632428639299038833046264585834888158847387737841843413664892833586209196366979775748895821826924040057845140287522238675082137570315954526727437094904914796782641000740777897919134093393530422760955140211387173650047358347353379234387609261306673773281412893026941927424000000000000000000000000000000000000000000000000000000000000000000000000000000000000000000000000000000000000000000000000000000"
      ]
     },
     "execution_count": 17,
     "metadata": {},
     "output_type": "execute_result"
    }
   ],
   "source": [
    "from math import factorial\n",
    "\n",
    "\n",
    "factorial(512)"
   ]
  }
 ],
 "metadata": {
  "kernelspec": {
   "display_name": ".venv",
   "language": "python",
   "name": "python3"
  },
  "language_info": {
   "codemirror_mode": {
    "name": "ipython",
    "version": 3
   },
   "file_extension": ".py",
   "mimetype": "text/x-python",
   "name": "python",
   "nbconvert_exporter": "python",
   "pygments_lexer": "ipython3",
   "version": "3.11.11"
  }
 },
 "nbformat": 4,
 "nbformat_minor": 2
}
